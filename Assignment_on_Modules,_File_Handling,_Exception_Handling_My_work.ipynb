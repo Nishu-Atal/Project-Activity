{
  "cells": [
    {
      "cell_type": "markdown",
      "metadata": {
        "id": "_4sj2T44cm2b"
      },
      "source": [
        "## Modules - Included questions from different internal/external libraries"
      ],
      "id": "_4sj2T44cm2b"
    },
    {
      "cell_type": "code",
      "execution_count": null,
      "metadata": {
        "id": "eayMw0q3cm2f"
      },
      "outputs": [],
      "source": [
        "#Mo1  Hint: use json library/module\n",
        "Write a Python program to convert data in a given json file to the following format.\n",
        "(Find json file attached)\n",
        "Input: Given JSON File (https://drive.google.com/file/d/15zl_FaXdatnlLlciBSrYKdiyaTvEATbO/view)\n",
        "Output:\n",
        "    header.title = \"This is main\"\n",
        "    header.subtitle = \"This is subtext\"\n",
        "    footer.chapter = \"Chapter Title\"\n",
        "    footer.page = \"1\"\n",
        "    footer.revision = \"First\"\n",
        "    body.content = \"This is a paragraph\""
      ],
      "id": "eayMw0q3cm2f"
    },
    {
      "cell_type": "code",
      "source": [
        "import os\n"
      ],
      "metadata": {
        "id": "aKLZaaUBcwdt"
      },
      "id": "aKLZaaUBcwdt",
      "execution_count": null,
      "outputs": []
    },
    {
      "cell_type": "code",
      "execution_count": null,
      "metadata": {
        "id": "Qtl0b7Mucm2g"
      },
      "outputs": [],
      "source": [
        "#Mo2\n",
        "Write a program to download specific video from YouTube and save it inside computer.\n",
        "Take video link as input from the user."
      ],
      "id": "Qtl0b7Mucm2g"
    },
    {
      "cell_type": "code",
      "execution_count": null,
      "metadata": {
        "id": "jySbXVh5cm2h"
      },
      "outputs": [],
      "source": [
        "#Mo3\n",
        "Write a program to play a specific audio file from the computer when the user enters a number which is a multiple of 5.\n",
        "Take 10 inputs from the user in a sequence. Play the audio file for every number which is a multiple of 5."
      ],
      "id": "jySbXVh5cm2h"
    },
    {
      "cell_type": "code",
      "execution_count": null,
      "metadata": {
        "id": "INWVNuLdcm2h"
      },
      "outputs": [],
      "source": [
        "#Mo4\n",
        "Write a program to print the current time and date in a timezone which is taken as input from the user."
      ],
      "id": "INWVNuLdcm2h"
    },
    {
      "cell_type": "code",
      "execution_count": null,
      "metadata": {
        "id": "IbnQAiuDcm2h"
      },
      "outputs": [],
      "source": [
        "#Mo5\n",
        "Write a program to tell the week number of a date taken as input from the user.\n",
        "For e.g.: \n",
        "    Input: '13/02/2022'\n",
        "    Output: 6"
      ],
      "id": "IbnQAiuDcm2h"
    },
    {
      "cell_type": "code",
      "execution_count": null,
      "metadata": {
        "id": "uDwMrwmtcm2h"
      },
      "outputs": [],
      "source": [
        "#Mo6\n",
        "Write a program to send a specific mail to person using gmail.\n",
        "Take mail content from a txt file stored in a computer\n",
        "Take receiver email address as input from the user.\n",
        "Send the email from a set gmail account. (Use dummy account here if needed.)"
      ],
      "id": "uDwMrwmtcm2h"
    },
    {
      "cell_type": "code",
      "execution_count": null,
      "metadata": {
        "id": "tz-uwB87cm2i"
      },
      "outputs": [],
      "source": [],
      "id": "tz-uwB87cm2i"
    },
    {
      "cell_type": "code",
      "execution_count": null,
      "metadata": {
        "id": "8YhAoGVYcm2i"
      },
      "outputs": [],
      "source": [],
      "id": "8YhAoGVYcm2i"
    },
    {
      "cell_type": "code",
      "execution_count": null,
      "metadata": {
        "id": "2ro4krvPcm2j"
      },
      "outputs": [],
      "source": [],
      "id": "2ro4krvPcm2j"
    },
    {
      "cell_type": "code",
      "execution_count": null,
      "metadata": {
        "id": "OUnjD_sqcm2j"
      },
      "outputs": [],
      "source": [],
      "id": "OUnjD_sqcm2j"
    },
    {
      "cell_type": "markdown",
      "metadata": {
        "id": "qpMItoWfcm2j"
      },
      "source": [
        "## File Handling"
      ],
      "id": "qpMItoWfcm2j"
    },
    {
      "cell_type": "code",
      "execution_count": null,
      "metadata": {
        "id": "OTUzu87tcm2k"
      },
      "outputs": [],
      "source": [
        "#F1\n",
        "WAP to read content from one file and create two separate files from the given file content. \n",
        "The given file has two paragraphs separated by '-----------'. \n",
        "Save these two paragraphs in two separate files."
      ],
      "id": "OTUzu87tcm2k"
    },
    {
      "cell_type": "code",
      "execution_count": null,
      "metadata": {
        "id": "SadnzmK1cm2k"
      },
      "outputs": [],
      "source": [
        "#F2\n",
        "Write a program to save the dictionary inside a file in json style.\n",
        "The dictionary is containing multiple details about a book such as author, date, pages, mrp, etc..."
      ],
      "id": "SadnzmK1cm2k"
    },
    {
      "cell_type": "code",
      "execution_count": null,
      "metadata": {
        "id": "0UBTVnytcm2k"
      },
      "outputs": [],
      "source": [
        "#F3\n",
        "Write a program to read specific lines from a given txt file. Take line number as input from the user."
      ],
      "id": "0UBTVnytcm2k"
    },
    {
      "cell_type": "code",
      "execution_count": null,
      "metadata": {
        "id": "nRNl9Ni7cm2k"
      },
      "outputs": [],
      "source": [
        "#F4\n",
        "Write a Python program that takes a text file as input and returns the number of words present in the file."
      ],
      "id": "nRNl9Ni7cm2k"
    },
    {
      "cell_type": "code",
      "execution_count": null,
      "metadata": {
        "id": "4ySiHfMTcm2k"
      },
      "outputs": [],
      "source": [
        "#F5\n",
        "Write a Python program to generate 26 text files named A.txt, B.txt, and so on up to Z.txt.\n",
        "Save the multiplication table of the corresponding number in the corresponding text file.\n",
        "For e.g.: Table of 1 in A.txt, Table of 2 in B.txt and so on..."
      ],
      "id": "4ySiHfMTcm2k"
    },
    {
      "cell_type": "code",
      "execution_count": null,
      "metadata": {
        "id": "z51LCgEPcm2k"
      },
      "outputs": [],
      "source": [],
      "id": "z51LCgEPcm2k"
    },
    {
      "cell_type": "markdown",
      "metadata": {
        "id": "kB9yAdO7cm2l"
      },
      "source": [
        "## Regular Expression"
      ],
      "id": "kB9yAdO7cm2l"
    },
    {
      "cell_type": "code",
      "execution_count": null,
      "metadata": {
        "id": "MTqaGhNdcm2l",
        "outputId": "33fbf7ef-2821-494b-b0a4-78ed36841a23",
        "colab": {
          "base_uri": "https://localhost:8080/"
        }
      },
      "outputs": [
        {
          "output_type": "stream",
          "name": "stdout",
          "text": [
            "Enter a string= 91 is a\n",
            "Enter a number to check starting of a string= 8\n",
            "False\n"
          ]
        }
      ],
      "source": [
        "'''\n",
        "#Re1\n",
        "Write a Python program where a string will start with a specific number.\n",
        "\n",
        "For e.g.: Check for string starting with 9\n",
        "    Input: 91\n",
        "    Output: True\n",
        "        \n",
        "    Input: 83\n",
        "    Output: False\n",
        "    '''\n",
        "import re\n",
        "A=input(\"Enter a string= \")\n",
        "B=int(input(\"Enter a number to check given string starting with that number= \"))\n",
        "print(True if re.match(f\"\\A{B}\",A) else False)"
      ],
      "id": "MTqaGhNdcm2l"
    },
    {
      "cell_type": "code",
      "execution_count": null,
      "metadata": {
        "id": "uyiAfZOmcm2l",
        "outputId": "7db83455-ab03-495f-a808-33d08902bc81",
        "colab": {
          "base_uri": "https://localhost:8080/",
          "height": 235
        }
      },
      "outputs": [
        {
          "name": "stdout",
          "output_type": "stream",
          "text": [
            "Enter a string= Python is a great language and easy for beginners\n",
            "Enter a space seperated substrings to check their presence in string= Python easy best\n"
          ]
        },
        {
          "output_type": "error",
          "ename": "TypeError",
          "evalue": "ignored",
          "traceback": [
            "\u001b[0;31m---------------------------------------------------------------------------\u001b[0m",
            "\u001b[0;31mTypeError\u001b[0m                                 Traceback (most recent call last)",
            "\u001b[0;32m<ipython-input-8-9dbcaf2cfaa5>\u001b[0m in \u001b[0;36m<module>\u001b[0;34m\u001b[0m\n\u001b[1;32m     10\u001b[0m \u001b[0mA\u001b[0m\u001b[0;34m=\u001b[0m\u001b[0minput\u001b[0m\u001b[0;34m(\u001b[0m\u001b[0;34m\"Enter a string= \"\u001b[0m\u001b[0;34m)\u001b[0m\u001b[0;34m\u001b[0m\u001b[0;34m\u001b[0m\u001b[0m\n\u001b[1;32m     11\u001b[0m \u001b[0mB\u001b[0m\u001b[0;34m=\u001b[0m\u001b[0minput\u001b[0m\u001b[0;34m(\u001b[0m\u001b[0;34m\"Enter a space seperated substrings to check their presence in string= \"\u001b[0m\u001b[0;34m)\u001b[0m\u001b[0;34m.\u001b[0m\u001b[0mstrip\u001b[0m\u001b[0;34m(\u001b[0m\u001b[0;34m)\u001b[0m\u001b[0;34m.\u001b[0m\u001b[0msplit\u001b[0m\u001b[0;34m(\u001b[0m\u001b[0;34m)\u001b[0m\u001b[0;34m\u001b[0m\u001b[0;34m\u001b[0m\u001b[0m\n\u001b[0;32m---> 12\u001b[0;31m \u001b[0mprint\u001b[0m\u001b[0;34m(\u001b[0m\u001b[0mlist\u001b[0m\u001b[0;34m(\u001b[0m\u001b[0mfilter\u001b[0m\u001b[0;34m(\u001b[0m\u001b[0;32mlambda\u001b[0m \u001b[0mx\u001b[0m\u001b[0;34m:\u001b[0m \u001b[0;34m\"Matched\"\u001b[0m \u001b[0;32mif\u001b[0m \u001b[0mre\u001b[0m\u001b[0;34m.\u001b[0m\u001b[0mmatch\u001b[0m\u001b[0;34m(\u001b[0m\u001b[0;34mf\"{x}\"\u001b[0m\u001b[0;34m,\u001b[0m\u001b[0mA\u001b[0m\u001b[0;34m)\u001b[0m \u001b[0;32melse\u001b[0m \u001b[0;34m\"Not Matched\"\u001b[0m\u001b[0;34m)\u001b[0m\u001b[0;34m,\u001b[0m\u001b[0mB\u001b[0m\u001b[0;34m)\u001b[0m\u001b[0;34m)\u001b[0m\u001b[0;34m\u001b[0m\u001b[0;34m\u001b[0m\u001b[0m\n\u001b[0m",
            "\u001b[0;31mTypeError\u001b[0m: filter expected 2 arguments, got 1"
          ]
        }
      ],
      "source": [
        "'''\n",
        "#Re2\n",
        "Write a Python program to search some substrings in a string.\n",
        "\n",
        "For e.g.: \"Python is a great language and easy for beginners\"\n",
        "    Input: \"Python\", \"easy\", \"best\"\n",
        "    Output: \"Matched\", \"Matched\", \"Not Matched\"\n",
        "'''\n",
        "import re\n",
        "A=input(\"Enter a string= \")\n",
        "B=input(\"Enter a space seperated substrings to check their presence in string= \").strip().split()\n"
      ],
      "id": "uyiAfZOmcm2l"
    },
    {
      "cell_type": "code",
      "execution_count": null,
      "metadata": {
        "id": "pGIzOaM-cm2l",
        "outputId": "87b9f23b-a4c0-4d5e-b9be-2c580a850aa6",
        "colab": {
          "base_uri": "https://localhost:8080/"
        }
      },
      "outputs": [
        {
          "output_type": "stream",
          "name": "stdout",
          "text": [
            "Python_is_a_great_language_and_easy_for_beginners\n"
          ]
        }
      ],
      "source": [
        "'''\n",
        "#Re3\n",
        "Write a Python program to replace whitespaces with an underscore.\n",
        "\n",
        "For e.g.: \n",
        "    Input: \"Python is a great language and easy for beginners\"\n",
        "    Output: \"Python_is_a_great_language_and_easy_for_beginners\"\n",
        "    '''\n",
        "import re\n",
        "str=\"Python is a great language and easy for beginners\"\n",
        "print(re.sub(r\" \",\"_\",str))"
      ],
      "id": "pGIzOaM-cm2l"
    },
    {
      "cell_type": "code",
      "execution_count": null,
      "metadata": {
        "id": "G3_vKQj0cm2l",
        "outputId": "46cbe230-ed2a-4388-d351-54942db7b380",
        "colab": {
          "base_uri": "https://localhost:8080/"
        }
      },
      "outputs": [
        {
          "output_type": "stream",
          "name": "stdout",
          "text": [
            "216.8.94.196\n"
          ]
        }
      ],
      "source": [
        "'''\n",
        "#Re4\n",
        "Write a Python program to remove leading zeros from an IP address.\n",
        "\n",
        "For e.g.:\n",
        "    Input: \"216.008.094.196\"\n",
        "    Output: \"216.8.94.196\"\n",
        "    '''\n",
        "import re\n",
        "str=\"216.008.094.196\"\n",
        "print(re.sub(\"0\",\"\",str))"
      ],
      "id": "G3_vKQj0cm2l"
    },
    {
      "cell_type": "code",
      "execution_count": null,
      "metadata": {
        "id": "xEfU20PTcm2l",
        "outputId": "dc340a3c-4411-486a-b5a1-494c025c1785",
        "colab": {
          "base_uri": "https://localhost:8080/"
        }
      },
      "outputs": [
        {
          "output_type": "stream",
          "name": "stdout",
          "text": [
            "Enter a IP Address- 36.12.08.20.52\n",
            "Neither\n"
          ]
        }
      ],
      "source": [
        "'''\n",
        "#Re4\n",
        "Write a Python program to find the type of IP Address\n",
        "\n",
        "For e.g.:\n",
        "    Input: 192.0.2.126\n",
        "    Output: IPv4\n",
        "\n",
        "    Input: 3001:0da8:75a3:0000:0000:8a2e:0370:7334\n",
        "    Output: IPv6\n",
        "\n",
        "    Input: 36.12.08.20.52\n",
        "    Output: Neither\n",
        "'''\n",
        "import re\n",
        "A=input(\"Enter a IP Address- \")\n",
        "print(\"IPv4\" if re.match(r'\\d{3}.\\d.\\d.\\d{3}',A) else (\"IPv6\" if re.match(r'\\d{4}:\\w{4}:\\w{4}:\\d{4}:\\d{4}:\\w{4}:\\d{4}:\\d{4}',A) else \"Neither\" ))"
      ],
      "id": "xEfU20PTcm2l"
    },
    {
      "cell_type": "code",
      "execution_count": null,
      "metadata": {
        "id": "tEY4mvSEcm2l"
      },
      "outputs": [],
      "source": [
        "#Re5 Hint: Use external library OS\n",
        "Write a Python program to find files having a particular extension\n",
        "\n",
        "For e.g.:\n",
        "    Input: Different files present in a particular folder. Files are of different types\n",
        "    Output: Make a list of all the files having .txt extension"
      ],
      "id": "tEY4mvSEcm2l"
    },
    {
      "cell_type": "code",
      "execution_count": null,
      "metadata": {
        "id": "ptIZlgAwcm2m"
      },
      "outputs": [],
      "source": [],
      "id": "ptIZlgAwcm2m"
    }
  ],
  "metadata": {
    "kernelspec": {
      "display_name": "Python 3",
      "language": "python",
      "name": "python3"
    },
    "language_info": {
      "codemirror_mode": {
        "name": "ipython",
        "version": 3
      },
      "file_extension": ".py",
      "mimetype": "text/x-python",
      "name": "python",
      "nbconvert_exporter": "python",
      "pygments_lexer": "ipython3",
      "version": "3.8.3"
    },
    "colab": {
      "provenance": []
    }
  },
  "nbformat": 4,
  "nbformat_minor": 5
}